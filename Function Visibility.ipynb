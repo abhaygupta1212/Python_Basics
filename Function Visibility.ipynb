{
 "cells": [
  {
   "cell_type": "markdown",
   "id": "d2cd84fe",
   "metadata": {},
   "source": [
    "When a function is called, Python first looks for the definition of the function in the block from where it is called.\n",
    "If the function is not found in the same block, the outside block is then looked for."
   ]
  },
  {
   "cell_type": "code",
   "execution_count": 6,
   "id": "b472857b",
   "metadata": {},
   "outputs": [],
   "source": [
    "def test1():\n",
    "    print(\"Test 1 Called\")\n",
    "    \n",
    "    def test2():\n",
    "        print(\"Test 2 Called\")\n",
    "    def test3():\n",
    "        print(\"Test 3 Called\")\n",
    "        \n",
    "    test2()"
   ]
  },
  {
   "cell_type": "code",
   "execution_count": 7,
   "id": "e1d9b6b5",
   "metadata": {},
   "outputs": [
    {
     "ename": "NameError",
     "evalue": "name 'test2' is not defined",
     "output_type": "error",
     "traceback": [
      "\u001b[1;31m---------------------------------------------------------------------------\u001b[0m",
      "\u001b[1;31mNameError\u001b[0m                                 Traceback (most recent call last)",
      "\u001b[1;32m~\\AppData\\Local\\Temp\\ipykernel_3000\\2251835413.py\u001b[0m in \u001b[0;36m<module>\u001b[1;34m\u001b[0m\n\u001b[1;32m----> 1\u001b[1;33m \u001b[0mtest2\u001b[0m\u001b[1;33m(\u001b[0m\u001b[1;33m)\u001b[0m\u001b[1;33m\u001b[0m\u001b[1;33m\u001b[0m\u001b[0m\n\u001b[0m",
      "\u001b[1;31mNameError\u001b[0m: name 'test2' is not defined"
     ]
    }
   ],
   "source": [
    "test2()"
   ]
  },
  {
   "cell_type": "markdown",
   "id": "f02341c9",
   "metadata": {},
   "source": [
    "This throws an error because Python cannot locate the definition of the function in the block from whichh it is called. Function cannot look for any definition in any higher block because it is called from the outermost block."
   ]
  },
  {
   "cell_type": "code",
   "execution_count": 8,
   "id": "0410e977",
   "metadata": {},
   "outputs": [
    {
     "name": "stdout",
     "output_type": "stream",
     "text": [
      "Test 1 Called\n",
      "Test 2 Called\n"
     ]
    }
   ],
   "source": [
    "test1() "
   ]
  },
  {
   "cell_type": "markdown",
   "id": "724b4373",
   "metadata": {},
   "source": [
    "Since test1() is located in the same block, Python can call it. Because test2() is being called from the same block in which it was generated inside test1 block, Python is once again able to invoke it."
   ]
  },
  {
   "cell_type": "code",
   "execution_count": null,
   "id": "4f479d7d",
   "metadata": {},
   "outputs": [],
   "source": []
  }
 ],
 "metadata": {
  "kernelspec": {
   "display_name": "Python 3 (ipykernel)",
   "language": "python",
   "name": "python3"
  },
  "language_info": {
   "codemirror_mode": {
    "name": "ipython",
    "version": 3
   },
   "file_extension": ".py",
   "mimetype": "text/x-python",
   "name": "python",
   "nbconvert_exporter": "python",
   "pygments_lexer": "ipython3",
   "version": "3.9.13"
  }
 },
 "nbformat": 4,
 "nbformat_minor": 5
}
