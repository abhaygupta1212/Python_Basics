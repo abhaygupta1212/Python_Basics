{
 "cells": [
  {
   "cell_type": "markdown",
   "id": "d2beaa34",
   "metadata": {},
   "source": [
    "Method Overloading:\n",
    "Method overloading is a technique where multiple methods with the same name are defined in a class, but with different parameters or argument types. When a method is called, the correct version of the method is automatically selected based on the number and types of arguments passed to it. However, Python does not support method overloading in the traditional sense, as it does not allow multiple methods with the same name but different argument types. In Python, you can achieve the same functionality using default arguments, variable arguments, or keyword arguments."
   ]
  },
  {
   "cell_type": "code",
   "execution_count": 1,
   "id": "24558de7",
   "metadata": {},
   "outputs": [
    {
     "ename": "TypeError",
     "evalue": "add() missing 1 required positional argument: 'z'",
     "output_type": "error",
     "traceback": [
      "\u001b[1;31m---------------------------------------------------------------------------\u001b[0m",
      "\u001b[1;31mTypeError\u001b[0m                                 Traceback (most recent call last)",
      "\u001b[1;32m~\\AppData\\Local\\Temp\\ipykernel_10684\\1638457899.py\u001b[0m in \u001b[0;36m<module>\u001b[1;34m\u001b[0m\n\u001b[0;32m      7\u001b[0m \u001b[1;33m\u001b[0m\u001b[0m\n\u001b[0;32m      8\u001b[0m \u001b[0mm\u001b[0m \u001b[1;33m=\u001b[0m \u001b[0mMath\u001b[0m\u001b[1;33m(\u001b[0m\u001b[1;33m)\u001b[0m\u001b[1;33m\u001b[0m\u001b[1;33m\u001b[0m\u001b[0m\n\u001b[1;32m----> 9\u001b[1;33m \u001b[0mprint\u001b[0m\u001b[1;33m(\u001b[0m\u001b[0mm\u001b[0m\u001b[1;33m.\u001b[0m\u001b[0madd\u001b[0m\u001b[1;33m(\u001b[0m\u001b[1;36m2\u001b[0m\u001b[1;33m,\u001b[0m \u001b[1;36m3\u001b[0m\u001b[1;33m)\u001b[0m\u001b[1;33m)\u001b[0m      \u001b[1;31m# This will throw an error as there is no add() method with two arguments\u001b[0m\u001b[1;33m\u001b[0m\u001b[1;33m\u001b[0m\u001b[0m\n\u001b[0m\u001b[0;32m     10\u001b[0m \u001b[0mprint\u001b[0m\u001b[1;33m(\u001b[0m\u001b[0mm\u001b[0m\u001b[1;33m.\u001b[0m\u001b[0madd\u001b[0m\u001b[1;33m(\u001b[0m\u001b[1;36m2\u001b[0m\u001b[1;33m,\u001b[0m \u001b[1;36m3\u001b[0m\u001b[1;33m,\u001b[0m \u001b[1;36m4\u001b[0m\u001b[1;33m)\u001b[0m\u001b[1;33m)\u001b[0m   \u001b[1;31m# This will print 9 as the add() method with three arguments is called\u001b[0m\u001b[1;33m\u001b[0m\u001b[1;33m\u001b[0m\u001b[0m\n",
      "\u001b[1;31mTypeError\u001b[0m: add() missing 1 required positional argument: 'z'"
     ]
    }
   ],
   "source": [
    "class Math:\n",
    "    def add(self, x, y):\n",
    "        return x + y\n",
    "\n",
    "    def add(self, x, y, z):\n",
    "        return x + y + z\n",
    "\n",
    "m = Math()\n",
    "print(m.add(2, 3))      # This will throw an error as there is no add() method with two arguments\n",
    "print(m.add(2, 3, 4))   # This will print 9 as the add() method with three arguments is called\n"
   ]
  },
  {
   "cell_type": "raw",
   "id": "35abf0ea",
   "metadata": {},
   "source": [
    "In Python, method overloading is not directly supported as it is in some other languages such as Java or C++. However, we can achieve method overloading using default arguments, variable arguments, or keyword arguments.\n",
    "\n",
    "Here is an example of method overloading using default arguments in Python:"
   ]
  },
  {
   "cell_type": "code",
   "execution_count": 2,
   "id": "f59e73b8",
   "metadata": {},
   "outputs": [
    {
     "name": "stdout",
     "output_type": "stream",
     "text": [
      "5\n",
      "9\n"
     ]
    }
   ],
   "source": [
    "class Math:\n",
    "    def add(self, x, y, z=0):\n",
    "        return x + y + z\n",
    "\n",
    "m = Math()\n",
    "print(m.add(2, 3))      # This will print 5, as z has a default value of 0\n",
    "print(m.add(2, 3, 4))   # This will print 9, as z is explicitly passed as 4\n"
   ]
  },
  {
   "cell_type": "raw",
   "id": "647d0884",
   "metadata": {},
   "source": [
    "Method Overriding:\n",
    "Method overriding is a technique where a subclass provides its implementation of a method that is already defined in its superclass. The method in the subclass has the same name and signature (number and types of parameters) as the method in the superclass, but it provides a different implementation. When the method is called on an object of the subclass, the implementation in the subclass is executed instead of the one in the superclass."
   ]
  },
  {
   "cell_type": "code",
   "execution_count": 3,
   "id": "97981d08",
   "metadata": {},
   "outputs": [
    {
     "name": "stdout",
     "output_type": "stream",
     "text": [
      "Animal sound\n",
      "Bark\n"
     ]
    }
   ],
   "source": [
    "class Animal:\n",
    "    def make_sound(self):\n",
    "        print(\"Animal sound\")\n",
    "\n",
    "class Dog(Animal):\n",
    "    def make_sound(self):\n",
    "        print(\"Bark\")\n",
    "\n",
    "a = Animal()\n",
    "d = Dog()\n",
    "a.make_sound()    # This will print \"Animal sound\"\n",
    "d.make_sound()    # This will print \"Bark\"\n"
   ]
  },
  {
   "cell_type": "code",
   "execution_count": null,
   "id": "6c824ee5",
   "metadata": {},
   "outputs": [],
   "source": []
  }
 ],
 "metadata": {
  "kernelspec": {
   "display_name": "Python 3 (ipykernel)",
   "language": "python",
   "name": "python3"
  },
  "language_info": {
   "codemirror_mode": {
    "name": "ipython",
    "version": 3
   },
   "file_extension": ".py",
   "mimetype": "text/x-python",
   "name": "python",
   "nbconvert_exporter": "python",
   "pygments_lexer": "ipython3",
   "version": "3.9.13"
  }
 },
 "nbformat": 4,
 "nbformat_minor": 5
}
