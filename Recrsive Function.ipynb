{
 "cells": [
  {
   "cell_type": "code",
   "execution_count": 1,
   "id": "d7dcf5de",
   "metadata": {},
   "outputs": [],
   "source": [
    "def fibonacci(i, f = [1, 1] , n = 2):\n",
    "    f = f.copy() # Prevent the default list from being modified \n",
    "    f.append(f[-1] + f[-2])\n",
    "    n += 1\n",
    "    \n",
    "    if i <= n:\n",
    "        return f\n",
    "    else:\n",
    "        ans = fibonacci(i, f, n)\n",
    "    return ans"
   ]
  },
  {
   "cell_type": "code",
   "execution_count": 2,
   "id": "b7a9e908",
   "metadata": {},
   "outputs": [],
   "source": [
    "def factorial(n, f = 1, i = 1):\n",
    "    f = f*i\n",
    "    \n",
    "    \n",
    "    if i == n:\n",
    "        \n",
    "        return f\n",
    "    else:\n",
    "        i = i+1\n",
    "        ans = factorial(n , f, i)\n",
    "    return ans"
   ]
  },
  {
   "cell_type": "code",
   "execution_count": null,
   "id": "e7d55a4f",
   "metadata": {},
   "outputs": [],
   "source": []
  }
 ],
 "metadata": {
  "kernelspec": {
   "display_name": "Python 3 (ipykernel)",
   "language": "python",
   "name": "python3"
  },
  "language_info": {
   "codemirror_mode": {
    "name": "ipython",
    "version": 3
   },
   "file_extension": ".py",
   "mimetype": "text/x-python",
   "name": "python",
   "nbconvert_exporter": "python",
   "pygments_lexer": "ipython3",
   "version": "3.9.13"
  }
 },
 "nbformat": 4,
 "nbformat_minor": 5
}
