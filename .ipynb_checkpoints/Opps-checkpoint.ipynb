{
 "cells": [
  {
   "cell_type": "raw",
   "metadata": {},
   "source": [
    "method --> function withing a class"
   ]
  },
  {
   "cell_type": "code",
   "execution_count": 1,
   "metadata": {},
   "outputs": [
    {
     "name": "stdout",
     "output_type": "stream",
     "text": [
      "Abhay\n",
      "Narendra\n"
     ]
    }
   ],
   "source": [
    "class Employee:\n",
    "    pass\n",
    "emp_1 = Employee() # Instance 1\n",
    "emp_2 = Employee() # Instance 2\n",
    "\n",
    "# Instance Variable har instance ka alag hota ha\n",
    "emp_1.first = \"Abhay\"\n",
    "emp_1.last = \"Gupta\"\n",
    "emp_2.first = \"Narendra\"\n",
    "emp_2.last = \"Modi\"\n",
    "\n",
    "print(emp_1.first)\n",
    "print(emp_2.first)"
   ]
  },
  {
   "cell_type": "markdown",
   "metadata": {},
   "source": [
    "## __init__ method: called automatically "
   ]
  },
  {
   "cell_type": "code",
   "execution_count": 1,
   "metadata": {},
   "outputs": [
    {
     "name": "stdout",
     "output_type": "stream",
     "text": [
      "Abhay\n",
      "Abhay Gupta\n",
      "Narendra Modi\n",
      "5000\n",
      "5500.0\n",
      "0.1\n"
     ]
    }
   ],
   "source": [
    "class Employee2:\n",
    "    raise_percent = 0.10 # Class Variable\n",
    "    def __init__(self, f, l, p):\n",
    "        self.first = f # We access instance variable using self inside the class\n",
    "        self.last = l\n",
    "        self.pay = p\n",
    "    def fullname(self):\n",
    "        return (self.first +\" \" + self.last)\n",
    "    def apply_raise(self):\n",
    "        self.pay = self.pay + self.pay * Employee2.raise_percent # We access class varuable using class name\n",
    "        \n",
    "\n",
    "empl_1 = Employee2(\"Abhay\", \"Gupta\", 5000)\n",
    "empl_2 = Employee2(\"Narendra\", \"Modi\", 6000)\n",
    "\n",
    "print(empl_1.first) # we access instance variable outside the class using instance name\n",
    "print(empl_1.fullname())\n",
    "print(empl_2.fullname())\n",
    "print(empl_1.pay)\n",
    "empl_1.apply_raise()\n",
    "print(empl_1.pay)\n",
    "print(Employee2.raise_percent) # we can access class variable using class name"
   ]
  },
  {
   "cell_type": "markdown",
   "metadata": {},
   "source": [
    "## Accessing an insance variable which is not present"
   ]
  },
  {
   "cell_type": "code",
   "execution_count": 3,
   "metadata": {},
   "outputs": [
    {
     "name": "stdout",
     "output_type": "stream",
     "text": [
      "12\n",
      "12\n",
      "13\n",
      "12\n"
     ]
    }
   ],
   "source": [
    "# NOTE: If we try to access a instance variable which is not present then,\n",
    "# pyhton access the class variable. \n",
    "# If no such class variable is preset then it throw error\n",
    "\n",
    "class new:\n",
    "    x = 12\n",
    "    def change_x(self):\n",
    "        self.x = 13\n",
    "\n",
    "inst1 = new()\n",
    "inst2 = new()\n",
    "\n",
    "print(inst1.x)\n",
    "print(inst2.x) \n",
    "inst1.change_x() # create an instnce variable for instance 1\n",
    "print(inst1.x)\n",
    "print(inst2.x)"
   ]
  },
  {
   "cell_type": "markdown",
   "metadata": {},
   "source": [
    "### why we use above concept : Do not use it, this makes code very confusing\n",
    "### Application: Only use when: we want an attribute to have a common value across all the instances but for some instances we want it to be different\n"
   ]
  },
  {
   "cell_type": "code",
   "execution_count": 13,
   "metadata": {},
   "outputs": [
    {
     "name": "stdout",
     "output_type": "stream",
     "text": [
      "Abhay will retire at 50\n",
      "Corey will retire at 60\n"
     ]
    }
   ],
   "source": [
    "class Employee:\n",
    "    retirement_age = 60\n",
    "    def __init__(self, f, s):\n",
    "        self.fname = f\n",
    "        self.sname = s\n",
    "\n",
    "emp1 = Employee(\"Abhay\", \"Gupta\")\n",
    "emp1.retirement_age = 50 # It creates a local copy\n",
    "\n",
    "emp2 = Employee(\"Corey\", \"Schafer\")\n",
    "\n",
    "print(f\"{emp1.fname} will retire at {emp1.retirement_age}\")\n",
    "print(f\"{emp2.fname} will retire at {emp2.retirement_age}\")\n",
    "\n"
   ]
  },
  {
   "cell_type": "markdown",
   "metadata": {},
   "source": [
    "## Regular method vs class method\n"
   ]
  },
  {
   "cell_type": "code",
   "execution_count": 4,
   "metadata": {},
   "outputs": [
    {
     "name": "stdout",
     "output_type": "stream",
     "text": [
      "10\n",
      "20\n",
      "30\n",
      "20\n"
     ]
    }
   ],
   "source": [
    "class Test:\n",
    "    x = 10\n",
    "    def __init__(self): # Takes first Argument as insatnce\n",
    "        self.x = 20\n",
    "    @classmethod\n",
    "    def class_method(cls): # Takes first argument as class\n",
    "        cls.x = 30\n",
    "\n",
    "inst = Test()\n",
    "print(Test.x)\n",
    "print(inst.x)\n",
    "Test.class_method()\n",
    "print(Test.x)\n",
    "print(inst.x)\n"
   ]
  },
  {
   "cell_type": "markdown",
   "metadata": {},
   "source": [
    "## Application: Class Method is used along with init method as a constructor jab jo data initialise karna ha wo ek list me ha ya koi string me ha aur kuch operation karke data ko extract karna ha to wo operatimn ham class method ke andar kar sakte ha"
   ]
  },
  {
   "cell_type": "code",
   "execution_count": 5,
   "metadata": {},
   "outputs": [
    {
     "name": "stdout",
     "output_type": "stream",
     "text": [
      "Abhay\n",
      "Gupta\n",
      "4000\n"
     ]
    }
   ],
   "source": [
    "class Test2:\n",
    "    def __init__(self, f, l, p):\n",
    "        self.first = f\n",
    "        self.last = l\n",
    "        self.pay = p\n",
    "    @classmethod\n",
    "    def class_method2(cls, data):\n",
    "        f, l, p = tuple(data)\n",
    "        instance = cls(f, l, p)\n",
    "        return instance\n",
    "\n",
    "data = [\"Abhay\", \"Gupta\", 4000]\n",
    "inst2 = Test2.class_method2(data)\n",
    "print(inst2.first)\n",
    "print(inst2.last)\n",
    "print(inst2.pay)"
   ]
  },
  {
   "cell_type": "markdown",
   "metadata": {},
   "source": [
    "## Static Method - method inside a class in whichh neither instance is passed (like reguler method) nor class is passed (like class method)\n",
    "\n",
    "## Application: Used when we neither need the instance nor the class inside the metho, but we need a method just for some function"
   ]
  },
  {
   "cell_type": "code",
   "execution_count": 6,
   "metadata": {},
   "outputs": [
    {
     "name": "stdout",
     "output_type": "stream",
     "text": [
      "Static Method called\n",
      "Static Method called\n"
     ]
    }
   ],
   "source": [
    "class Test3:\n",
    "    @staticmethod\n",
    "    def static_method():\n",
    "        print(\"Static Method called\")\n",
    "\n",
    "inst = Test3()\n",
    "inst.static_method()\n",
    "Test3.static_method()\n",
    "\n",
    "# We can call static method either from class name or from instance name since it does not pass any of them"
   ]
  },
  {
   "cell_type": "markdown",
   "metadata": {},
   "source": [
    "## NEVER TRY TO MODIFY CLASS VARIABLE USING INSTANCE VARIABLE\n",
    "## Test Code"
   ]
  },
  {
   "cell_type": "code",
   "execution_count": 7,
   "metadata": {},
   "outputs": [
    {
     "data": {
      "text/plain": [
       "50"
      ]
     },
     "execution_count": 7,
     "metadata": {},
     "output_type": "execute_result"
    }
   ],
   "source": [
    "class Test:\n",
    "    class_var = 10\n",
    "\n",
    "ins1 = Test()\n",
    "Test.class_var = 50\n",
    "ins2 = Test()\n",
    "ins2.class_var # Class Variable get mldifies therefeore 50\n"
   ]
  },
  {
   "cell_type": "code",
   "execution_count": 14,
   "metadata": {},
   "outputs": [
    {
     "data": {
      "text/plain": [
       "10"
      ]
     },
     "execution_count": 14,
     "metadata": {},
     "output_type": "execute_result"
    }
   ],
   "source": [
    "class Test:\n",
    "    class_var = 10\n",
    "\n",
    "ins1 = Test()\n",
    "ins1.class_var = 50 # An instance variable is created with value 50\n",
    "ins2 = Test()\n",
    "ins2.class_var # Class Variable does not get mldified therefeore 10\n"
   ]
  },
  {
   "cell_type": "markdown",
   "metadata": {},
   "source": [
    "## INHERITENCE"
   ]
  },
  {
   "cell_type": "code",
   "execution_count": 2,
   "metadata": {},
   "outputs": [
    {
     "data": {
      "text/plain": [
       "'Abhay'"
      ]
     },
     "execution_count": 2,
     "metadata": {},
     "output_type": "execute_result"
    }
   ],
   "source": [
    "class parent_class:\n",
    "    fname = \"Abhay\"\n",
    "\n",
    "class sub_class(parent_class): # Inherit parent_class\n",
    "    sname = \"Gupta\"\n",
    "\n",
    "obj1 = sub_class()\n",
    "obj1.fname"
   ]
  },
  {
   "cell_type": "markdown",
   "metadata": {},
   "source": [
    "When we try to access a method/Variable\n",
    "1. First it look for it in its class\n",
    "2. Then it look for it in parent class"
   ]
  },
  {
   "cell_type": "code",
   "execution_count": 10,
   "metadata": {},
   "outputs": [],
   "source": [
    "class automobile:\n",
    "    def __init__(self, w):\n",
    "        self.wheel = w\n",
    "class cars(automobile):\n",
    "    def __init__(self, w, b): \n",
    "        automobile.__init__(self, w) # Let the main class handle wheels (to keep code DRY)\n",
    "        self.brand = b\n",
    "car = cars(4, \"tata motors\")"
   ]
  },
  {
   "cell_type": "code",
   "execution_count": 11,
   "metadata": {},
   "outputs": [
    {
     "data": {
      "text/plain": [
       "'tata motors'"
      ]
     },
     "execution_count": 11,
     "metadata": {},
     "output_type": "execute_result"
    }
   ],
   "source": [
    "car.brand"
   ]
  },
  {
   "cell_type": "markdown",
   "metadata": {},
   "source": [
    "## Manager Example is important in corey schafer video \n",
    "https://www.youtube.com/watch?v=RSl87lqOXDE&list=PL-osiE80TeTsqhIuOqKhwlXsIBIdSeYtc&index=6&t=7s\n",
    "Time: 10:29\n",
    "Solve once\n"
   ]
  },
  {
   "cell_type": "markdown",
   "metadata": {},
   "source": [
    "## We can have a list of objects\n",
    "\n"
   ]
  },
  {
   "cell_type": "code",
   "execution_count": 11,
   "metadata": {},
   "outputs": [],
   "source": [
    "class organization:\n",
    "    Employee_List= []\n",
    "\n",
    "class Employee():\n",
    "    def __init__(self, f, s):\n",
    "        self.fname = f\n",
    "        self.sname = s\n",
    "        organization.Employee_List.append(self) \n",
    "\n",
    "empl1 = Employee(\"Abhay\", \"Gupta\")\n",
    "empl2 = Employee(\"Corey\", \"Schafer\")"
   ]
  },
  {
   "cell_type": "code",
   "execution_count": 12,
   "metadata": {},
   "outputs": [
    {
     "data": {
      "text/plain": [
       "'Abhay'"
      ]
     },
     "execution_count": 12,
     "metadata": {},
     "output_type": "execute_result"
    }
   ],
   "source": [
    "organization.Employee_List[0].fname"
   ]
  },
  {
   "cell_type": "markdown",
   "metadata": {},
   "source": []
  },
  {
   "cell_type": "code",
   "execution_count": null,
   "metadata": {},
   "outputs": [],
   "source": []
  }
 ],
 "metadata": {
  "kernelspec": {
   "display_name": "Python 3 (ipykernel)",
   "language": "python",
   "name": "python3"
  },
  "language_info": {
   "codemirror_mode": {
    "name": "ipython",
    "version": 3
   },
   "file_extension": ".py",
   "mimetype": "text/x-python",
   "name": "python",
   "nbconvert_exporter": "python",
   "pygments_lexer": "ipython3",
   "version": "3.9.13"
  }
 },
 "nbformat": 4,
 "nbformat_minor": 4
}
