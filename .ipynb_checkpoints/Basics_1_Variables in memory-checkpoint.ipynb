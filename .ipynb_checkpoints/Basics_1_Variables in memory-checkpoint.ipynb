{
 "cells": [
  {
   "cell_type": "markdown",
   "metadata": {},
   "source": [
    "for data types\n",
    "1. string\n",
    "2. integers\n",
    "3. float\n",
    "\n",
    "During initalization, either by\n",
    "1. assigning value or\n",
    "2. assigning another variable\n",
    "\n",
    "\n",
    "if the variable has a value same as an existing variable, then it will have same memory location as that of existing variable\n",
    "But once we change the value, then it will have a different location and the change in value do not effect the other variable"
   ]
  },
  {
   "cell_type": "code",
   "execution_count": 1,
   "metadata": {},
   "outputs": [
    {
     "name": "stdout",
     "output_type": "stream",
     "text": [
      "2508307918512\n",
      "2508307918512\n"
     ]
    }
   ],
   "source": [
    "# Assiging Value\n",
    "a = 45\n",
    "b = 45 # b will have same memory as that of existing a\n",
    "print(id(a))\n",
    "print(id(b))"
   ]
  },
  {
   "cell_type": "code",
   "execution_count": 3,
   "metadata": {},
   "outputs": [
    {
     "name": "stdout",
     "output_type": "stream",
     "text": [
      "Value: a = 45, b = 47\n",
      "ida = 2508307918512, idb = 2508307918576\n"
     ]
    }
   ],
   "source": [
    "b = b + 1 # Now b will be assigned a different memory and this chnage will not be reflected in a\n",
    "print(f\"Value: a = {a}, b = {b}\")\n",
    "print(f\"ida = {id(a)}, idb = {id(b)}\")"
   ]
  },
  {
   "cell_type": "code",
   "execution_count": 5,
   "metadata": {},
   "outputs": [
    {
     "name": "stdout",
     "output_type": "stream",
     "text": [
      "2508307918352\n",
      "2508307918352\n",
      "2508307918512\n"
     ]
    }
   ],
   "source": [
    "# Assigining another Variable\n",
    "a = 40\n",
    "b = a # b will have same memory as that a\n",
    "print(id(a))\n",
    "print(id(b))\n",
    "c = 45 # The original 45 is not deleted from memory and c will have the same memory location\n",
    "print(id(c)) "
   ]
  },
  {
   "cell_type": "code",
   "execution_count": 32,
   "metadata": {},
   "outputs": [
    {
     "name": "stdout",
     "output_type": "stream",
     "text": [
      "Value: a = 40, b = 41\n",
      "ida = 140717699447808, idb = 140717699447840\n"
     ]
    }
   ],
   "source": [
    "b = b + 1 # Now b will be assigned a different memory and this chnage will not be reflected in a\n",
    "print(f\"Value: a = {a}, b = {b}\")\n",
    "print(f\"ida = {id(a)}, idb = {id(b)}\")"
   ]
  },
  {
   "cell_type": "markdown",
   "metadata": {},
   "source": [
    "## list and numpy Array\n",
    "\n",
    "During initialization by\n",
    "1. Assigning Value: The variable will always have a different memory \n",
    "2. Assigning Variable: The variable will have the same memory as that of assigned variable\n",
    "\n",
    "if we we change the value of a variable then it will be reflected in all such variables whcih share the same memory. No new memory is created for the chnaged variable."
   ]
  },
  {
   "cell_type": "code",
   "execution_count": 33,
   "metadata": {
    "scrolled": true
   },
   "outputs": [
    {
     "name": "stdout",
     "output_type": "stream",
     "text": [
      "2707139417600\n",
      "2707101136064\n"
     ]
    }
   ],
   "source": [
    "a = [45, 67]\n",
    "b = [45, 67] # Same values assigned, b and a has different memory\n",
    "print(id(a))\n",
    "print(id(b))"
   ]
  },
  {
   "cell_type": "code",
   "execution_count": 34,
   "metadata": {},
   "outputs": [
    {
     "name": "stdout",
     "output_type": "stream",
     "text": [
      "2707139417600\n",
      "2707139417600\n"
     ]
    }
   ],
   "source": [
    "\n",
    "c = a # c and a has same memory\n",
    "print(id(a))\n",
    "print(id(c))"
   ]
  },
  {
   "cell_type": "code",
   "execution_count": 35,
   "metadata": {},
   "outputs": [
    {
     "name": "stdout",
     "output_type": "stream",
     "text": [
      "[45, 67, 4]\n",
      "[45, 67]\n",
      "[45, 67, 4]\n"
     ]
    }
   ],
   "source": [
    "a.append(4) # this is refelcted in c but not in b\n",
    "print(a)\n",
    "print(b)\n",
    "print(c)"
   ]
  },
  {
   "cell_type": "code",
   "execution_count": 36,
   "metadata": {},
   "outputs": [
    {
     "name": "stdout",
     "output_type": "stream",
     "text": [
      "2707144449600\n",
      "2707144447280\n"
     ]
    }
   ],
   "source": [
    "import numpy as np\n",
    "arr1 = np.array([1, 2, 3, 4 ])\n",
    "arr2 = np.array([1, 2, 3, 4 ]) # arr1 and arr2 will have different memory\n",
    "print(id(arr1))\n",
    "print(id(arr2)) "
   ]
  },
  {
   "cell_type": "code",
   "execution_count": 37,
   "metadata": {},
   "outputs": [
    {
     "name": "stdout",
     "output_type": "stream",
     "text": [
      "[90  2  3  4]\n",
      "[1 2 3 4]\n",
      "[90  2  3  4]\n"
     ]
    }
   ],
   "source": [
    "arr3 = arr1 # arr1 and arr3 will share same memory\n",
    "arr1[0] = 90\n",
    "print(arr1)\n",
    "print(arr2)\n",
    "print(arr3)"
   ]
  },
  {
   "cell_type": "markdown",
   "metadata": {},
   "source": [
    "### .copy ===> this works like \"assigning values\""
   ]
  },
  {
   "cell_type": "code",
   "execution_count": 38,
   "metadata": {},
   "outputs": [
    {
     "name": "stdout",
     "output_type": "stream",
     "text": [
      "2707140922864\n",
      "2707144448560\n",
      "2707140922864\n"
     ]
    }
   ],
   "source": [
    "arr1 = np.array([1, 2, 3])\n",
    "arr2 = arr1.copy() # arr2 and arr1 have different memory\n",
    "arr3 = arr1 # arr3 and arr1 share same memory\n",
    "print(id(arr1))\n",
    "print(id(arr2))\n",
    "print(id(arr3))"
   ]
  },
  {
   "cell_type": "code",
   "execution_count": 1,
   "metadata": {},
   "outputs": [
    {
     "name": "stdout",
     "output_type": "stream",
     "text": [
      "True\n",
      "False\n"
     ]
    }
   ],
   "source": [
    "a = [1,2,3]\n",
    "b = a.copy()\n",
    "print(a == b)\n",
    "print(a is b)"
   ]
  },
  {
   "cell_type": "code",
   "execution_count": 3,
   "metadata": {},
   "outputs": [
    {
     "name": "stdout",
     "output_type": "stream",
     "text": [
      "True\n"
     ]
    }
   ],
   "source": [
    "a = [1,2,3]\n",
    "b = 1\n",
    "print(a[0] is b) # True: Refer to same memory"
   ]
  },
  {
   "cell_type": "markdown",
   "metadata": {},
   "source": [
    "## In function pass, the assignment work same as ="
   ]
  },
  {
   "cell_type": "code",
   "execution_count": 39,
   "metadata": {},
   "outputs": [
    {
     "name": "stdout",
     "output_type": "stream",
     "text": [
      "140717699446592\n",
      "140717699446592\n",
      "140717699446656\n",
      "140717699446592\n"
     ]
    }
   ],
   "source": [
    "def fun(a):\n",
    "    print(id(a))\n",
    "    a = a + 2\n",
    "    print(id(a))\n",
    "b = 2\n",
    "print(id(b))\n",
    "fun(b)\n",
    "print(id(b))"
   ]
  },
  {
   "cell_type": "code",
   "execution_count": 40,
   "metadata": {},
   "outputs": [
    {
     "name": "stdout",
     "output_type": "stream",
     "text": [
      "2707139596736\n",
      "2707139596736\n",
      "2707139596736\n",
      "2707139596736\n",
      "[1, 2, 3]\n"
     ]
    }
   ],
   "source": [
    "def fun(a):\n",
    "    print(id(a))\n",
    "    a.append(3)\n",
    "    print(id(a))\n",
    "b = [1, 2]\n",
    "print(id(b))\n",
    "fun(b)\n",
    "print(id(b))\n",
    "print(b)"
   ]
  },
  {
   "cell_type": "markdown",
   "metadata": {},
   "source": [
    "###  When a list (mutable object) is defined as default value to the function, and the list is modified inside the function, the modified list become the default value for the next function call"
   ]
  },
  {
   "cell_type": "code",
   "execution_count": 4,
   "metadata": {},
   "outputs": [
    {
     "name": "stdout",
     "output_type": "stream",
     "text": [
      "1\n",
      "1\n"
     ]
    }
   ],
   "source": [
    "def my_function(x=0):\n",
    "    x += 1\n",
    "    print(x)\n",
    "my_function()\n",
    "my_function()"
   ]
  },
  {
   "cell_type": "code",
   "execution_count": null,
   "metadata": {},
   "outputs": [],
   "source": []
  },
  {
   "cell_type": "code",
   "execution_count": 9,
   "metadata": {},
   "outputs": [
    {
     "name": "stdout",
     "output_type": "stream",
     "text": [
      "[0, 1]\n",
      "[0, 1, 1]\n"
     ]
    }
   ],
   "source": [
    "def my_function(x=[0]):\n",
    "    x.append(1)\n",
    "    print(x)\n",
    "my_function() # Modifies the list defined as default parameter, this modifies list is the default parameter for next function call \n",
    "my_function() # For this function call, x = [0, 1] is the default parameter"
   ]
  },
  {
   "cell_type": "code",
   "execution_count": 8,
   "metadata": {},
   "outputs": [
    {
     "name": "stdout",
     "output_type": "stream",
     "text": [
      "[1]\n",
      "[1, 1]\n"
     ]
    }
   ],
   "source": [
    "def my_function(x = []):\n",
    "    x.append(1)\n",
    "    print(x)\n",
    "my_function()\n",
    "my_function()"
   ]
  },
  {
   "cell_type": "code",
   "execution_count": 10,
   "metadata": {},
   "outputs": [
    {
     "name": "stdout",
     "output_type": "stream",
     "text": [
      "[1]\n",
      "[1]\n"
     ]
    }
   ],
   "source": [
    "def my_function(x = []):\n",
    "    x.append(1)\n",
    "    print(x)\n",
    "my_function() # Makes default parameter as [1]\n",
    "my_function([]) # It explicitely defines it to be [] "
   ]
  },
  {
   "cell_type": "markdown",
   "metadata": {},
   "source": [
    "## SCOPE"
   ]
  },
  {
   "cell_type": "code",
   "execution_count": null,
   "metadata": {},
   "outputs": [],
   "source": [
    "\n"
   ]
  },
  {
   "cell_type": "raw",
   "metadata": {},
   "source": [
    "Global Variable : It is defined outside the function \n",
    "Local Variable : It is defined Inside the function\n",
    "    \n",
    "Creating a Variable inside function:\n",
    "We can always create a variable inside the fucntion. It will have a different memory than the global variable having same name\n",
    "\n",
    "Accessing a variable inside the function\n",
    "1st : If the varibale is created locally then it is accessed\n",
    "2nd: If not then then global variable is acccessed\n",
    "    \n",
    "Modifying a Variable inside the function\n",
    "1st: If the variable is already created locally then it can be modified\n",
    "2nd: If the varibale is not created locally then gloabl variable cannot be modified inside the fucnction\n",
    "\n",
    "GLOBAL KEYWORD\n",
    "This keyword make the global and local variabloe to share the same memory, thus any modification made affects the gloabal variable\n",
    "\n",
    "BEHAVIOUR OF LIST:\n",
    "1. Creation of List: \n",
    "\n",
    "same --> It will have a different memory than that of global\n",
    "\n",
    "2. Accessing of List:\n",
    "\n",
    "same --> First Local is accessed if it is not present then global is accessed\n",
    "\n",
    "3. Modifying a list (IMP):\n",
    "\n",
    "case 1: \n",
    "LOCAL LIST NOT CREATED\n",
    "Then global list will get modified\n",
    "\n",
    "LOCAL LIST CREATED\n",
    "Then local list will get modified --> IF modification done before creation of list then it will throw error\n",
    "\n"
   ]
  },
  {
   "cell_type": "code",
   "execution_count": null,
   "metadata": {},
   "outputs": [],
   "source": [
    "x = 1;\n",
    "def fun():\n",
    "    x = 2; # Creating Variable --> Different memory than gloabl x\n",
    "    print(f\"{x} id: {id(x)}\")\n",
    "    \n",
    "print(f\"{x} id: {id(x)}\")\n",
    "fun()\n",
    "print(f\"{x} id: {id(x)}\")"
   ]
  },
  {
   "cell_type": "code",
   "execution_count": null,
   "metadata": {},
   "outputs": [],
   "source": [
    "x = 1;\n",
    "y = 2;\n",
    "\n",
    "def fun():\n",
    "    y = 3\n",
    "    print(x) # Global x \n",
    "    print(y) # Local y\n",
    "print(x)\n",
    "print(y)\n",
    "fun()\n",
    "    "
   ]
  },
  {
   "cell_type": "code",
   "execution_count": 46,
   "metadata": {},
   "outputs": [
    {
     "ename": "UnboundLocalError",
     "evalue": "local variable 'test' referenced before assignment",
     "output_type": "error",
     "traceback": [
      "\u001b[1;31m---------------------------------------------------------------------------\u001b[0m",
      "\u001b[1;31mUnboundLocalError\u001b[0m                         Traceback (most recent call last)",
      "\u001b[1;32m<ipython-input-46-cdc22191e523>\u001b[0m in \u001b[0;36m<module>\u001b[1;34m\u001b[0m\n\u001b[0;32m      4\u001b[0m     \u001b[0mprint\u001b[0m\u001b[1;33m(\u001b[0m\u001b[0mtest\u001b[0m\u001b[1;33m)\u001b[0m\u001b[1;33m\u001b[0m\u001b[1;33m\u001b[0m\u001b[0m\n\u001b[0;32m      5\u001b[0m \u001b[1;33m\u001b[0m\u001b[0m\n\u001b[1;32m----> 6\u001b[1;33m \u001b[0mmodify\u001b[0m\u001b[1;33m(\u001b[0m\u001b[1;33m)\u001b[0m\u001b[1;33m\u001b[0m\u001b[1;33m\u001b[0m\u001b[0m\n\u001b[0m",
      "\u001b[1;32m<ipython-input-46-cdc22191e523>\u001b[0m in \u001b[0;36mmodify\u001b[1;34m()\u001b[0m\n\u001b[0;32m      1\u001b[0m \u001b[0mtest\u001b[0m \u001b[1;33m=\u001b[0m \u001b[1;36m2\u001b[0m\u001b[1;33m\u001b[0m\u001b[1;33m\u001b[0m\u001b[0m\n\u001b[0;32m      2\u001b[0m \u001b[1;32mdef\u001b[0m \u001b[0mmodify\u001b[0m\u001b[1;33m(\u001b[0m\u001b[1;33m)\u001b[0m\u001b[1;33m:\u001b[0m\u001b[1;33m\u001b[0m\u001b[1;33m\u001b[0m\u001b[0m\n\u001b[1;32m----> 3\u001b[1;33m     \u001b[0mtest\u001b[0m \u001b[1;33m=\u001b[0m \u001b[0mtest\u001b[0m \u001b[1;33m+\u001b[0m \u001b[1;36m2\u001b[0m  \u001b[1;31m# Error --> modifying a gloabl variable\u001b[0m\u001b[1;33m\u001b[0m\u001b[1;33m\u001b[0m\u001b[0m\n\u001b[0m\u001b[0;32m      4\u001b[0m     \u001b[0mprint\u001b[0m\u001b[1;33m(\u001b[0m\u001b[0mtest\u001b[0m\u001b[1;33m)\u001b[0m\u001b[1;33m\u001b[0m\u001b[1;33m\u001b[0m\u001b[0m\n\u001b[0;32m      5\u001b[0m \u001b[1;33m\u001b[0m\u001b[0m\n",
      "\u001b[1;31mUnboundLocalError\u001b[0m: local variable 'test' referenced before assignment"
     ]
    }
   ],
   "source": [
    "test = 2\n",
    "def modify():\n",
    "    test = test + 2  # Error --> modifying a gloabl variable\n",
    "    print(test)\n",
    "\n",
    "modify()"
   ]
  },
  {
   "cell_type": "code",
   "execution_count": 47,
   "metadata": {},
   "outputs": [
    {
     "name": "stdout",
     "output_type": "stream",
     "text": [
      "6\n"
     ]
    }
   ],
   "source": [
    "test = 2\n",
    "def modify():\n",
    "    test = 3\n",
    "    test = test + 3\n",
    "    print(test)\n",
    "modify()"
   ]
  },
  {
   "cell_type": "code",
   "execution_count": 51,
   "metadata": {},
   "outputs": [
    {
     "name": "stdout",
     "output_type": "stream",
     "text": [
      "2 id: 140717699446592\n",
      "2 id: 140717699446592\n",
      "4 id: 140717699446656\n"
     ]
    }
   ],
   "source": [
    "# GLOBLA VARIABLE\n",
    "x = 2\n",
    "def fun():\n",
    "    global x  # Same memory as that of global x\n",
    "    print(f\"{x} id: {id(x)}\") # Initial Memory\n",
    "    x = x + 2 # Memory of global x changes since value changed \n",
    "print(f\"{x} id: {id(x)}\") # Initial Memory    \n",
    "fun()\n",
    "print(f\"{x} id: {id(x)}\") # Final Memory"
   ]
  },
  {
   "cell_type": "markdown",
   "metadata": {},
   "source": [
    "## BEHAVIOUR OF List"
   ]
  },
  {
   "cell_type": "code",
   "execution_count": 4,
   "metadata": {},
   "outputs": [
    {
     "name": "stdout",
     "output_type": "stream",
     "text": [
      "[2, 4, 5]\n",
      "[7, 8, 9]\n"
     ]
    }
   ],
   "source": [
    "l1 = [1, 2, 3]\n",
    "l2 = [7, 8, 9]\n",
    "def list_fun():\n",
    "    l1 = [2, 4, 5] # Share different memory than gloabl li\n",
    "    print(l1) # Local is accessed\n",
    "    print(l2) # Global is accessed\n",
    "\n",
    "list_fun()"
   ]
  },
  {
   "cell_type": "code",
   "execution_count": 7,
   "metadata": {},
   "outputs": [
    {
     "name": "stdout",
     "output_type": "stream",
     "text": [
      "[1, 2, 3, 4]\n",
      "[1, 2, 3, 4]\n"
     ]
    }
   ],
   "source": [
    "l1 = [1, 2, 3]\n",
    "def modify_list_fun():\n",
    "    l1.append(4) # since no local is present so global get modified\n",
    "    print(l1) # Since no local is present so global get accessed\n",
    "modify_list_fun()\n",
    "print(l1)"
   ]
  },
  {
   "cell_type": "code",
   "execution_count": 9,
   "metadata": {},
   "outputs": [
    {
     "name": "stdout",
     "output_type": "stream",
     "text": [
      "['Abhay', 'Gupta', 12]\n",
      "[1, 2, 3]\n"
     ]
    }
   ],
   "source": [
    "l2 = [1, 2, 3]\n",
    "def modify_list_fun2():\n",
    "    l2 = [\"Abhay\", \"Gupta\"]\n",
    "    l2.append(12) # Since local is present so  local get modified\n",
    "    print(l2) # Since local is present so local is accessed\n",
    "modify_list_fun2() \n",
    "print(l2) # GLobal accessed"
   ]
  },
  {
   "cell_type": "code",
   "execution_count": 1,
   "metadata": {},
   "outputs": [
    {
     "ename": "UnboundLocalError",
     "evalue": "local variable 'l3' referenced before assignment",
     "output_type": "error",
     "traceback": [
      "\u001b[1;31m---------------------------------------------------------------------------\u001b[0m",
      "\u001b[1;31mUnboundLocalError\u001b[0m                         Traceback (most recent call last)",
      "\u001b[1;32m<ipython-input-1-7614443f7e15>\u001b[0m in \u001b[0;36m<module>\u001b[1;34m\u001b[0m\n\u001b[0;32m      4\u001b[0m     \u001b[0ml3\u001b[0m \u001b[1;33m=\u001b[0m \u001b[1;33m[\u001b[0m\u001b[1;36m1\u001b[0m\u001b[1;33m,\u001b[0m \u001b[1;36m3\u001b[0m\u001b[1;33m,\u001b[0m \u001b[1;36m4\u001b[0m\u001b[1;33m]\u001b[0m\u001b[1;33m\u001b[0m\u001b[1;33m\u001b[0m\u001b[0m\n\u001b[0;32m      5\u001b[0m \u001b[1;33m\u001b[0m\u001b[0m\n\u001b[1;32m----> 6\u001b[1;33m \u001b[0mmodify_list\u001b[0m\u001b[1;33m(\u001b[0m\u001b[1;33m)\u001b[0m\u001b[1;33m\u001b[0m\u001b[1;33m\u001b[0m\u001b[0m\n\u001b[0m",
      "\u001b[1;32m<ipython-input-1-7614443f7e15>\u001b[0m in \u001b[0;36mmodify_list\u001b[1;34m()\u001b[0m\n\u001b[0;32m      1\u001b[0m \u001b[0ml3\u001b[0m \u001b[1;33m=\u001b[0m \u001b[1;33m[\u001b[0m\u001b[1;36m1\u001b[0m\u001b[1;33m,\u001b[0m \u001b[1;36m2\u001b[0m\u001b[1;33m,\u001b[0m \u001b[1;36m4\u001b[0m\u001b[1;33m]\u001b[0m\u001b[1;33m\u001b[0m\u001b[1;33m\u001b[0m\u001b[0m\n\u001b[0;32m      2\u001b[0m \u001b[1;32mdef\u001b[0m \u001b[0mmodify_list\u001b[0m\u001b[1;33m(\u001b[0m\u001b[1;33m)\u001b[0m\u001b[1;33m:\u001b[0m\u001b[1;33m\u001b[0m\u001b[1;33m\u001b[0m\u001b[0m\n\u001b[1;32m----> 3\u001b[1;33m     \u001b[0ml3\u001b[0m\u001b[1;33m.\u001b[0m\u001b[0mappend\u001b[0m\u001b[1;33m(\u001b[0m\u001b[1;36m5\u001b[0m\u001b[1;33m)\u001b[0m\u001b[1;33m\u001b[0m\u001b[1;33m\u001b[0m\u001b[0m\n\u001b[0m\u001b[0;32m      4\u001b[0m     \u001b[0ml3\u001b[0m \u001b[1;33m=\u001b[0m \u001b[1;33m[\u001b[0m\u001b[1;36m1\u001b[0m\u001b[1;33m,\u001b[0m \u001b[1;36m3\u001b[0m\u001b[1;33m,\u001b[0m \u001b[1;36m4\u001b[0m\u001b[1;33m]\u001b[0m\u001b[1;33m\u001b[0m\u001b[1;33m\u001b[0m\u001b[0m\n\u001b[0;32m      5\u001b[0m \u001b[1;33m\u001b[0m\u001b[0m\n",
      "\u001b[1;31mUnboundLocalError\u001b[0m: local variable 'l3' referenced before assignment"
     ]
    }
   ],
   "source": [
    "l3 = [1, 2, 4]\n",
    "def modify_list():\n",
    "    l3.append(5) # since l3 is also defined in local scope and modification is done before location defination therefore throw error\n",
    "    l3 = [1, 3, 4]\n",
    "    \n",
    "modify_list()"
   ]
  },
  {
   "cell_type": "code",
   "execution_count": 4,
   "metadata": {},
   "outputs": [],
   "source": [
    "## For linkedin post"
   ]
  },
  {
   "cell_type": "code",
   "execution_count": 5,
   "metadata": {},
   "outputs": [],
   "source": [
    "a = 45\n",
    "l1 = [23, 45, 67]"
   ]
  },
  {
   "cell_type": "code",
   "execution_count": 7,
   "metadata": {},
   "outputs": [
    {
     "name": "stdout",
     "output_type": "stream",
     "text": [
      "1964709408432 1964709408432\n"
     ]
    }
   ],
   "source": [
    "print(id(a), id(l1[1])) # Same memory location"
   ]
  },
  {
   "cell_type": "code",
   "execution_count": 8,
   "metadata": {},
   "outputs": [
    {
     "name": "stdout",
     "output_type": "stream",
     "text": [
      "1964793042624 1964792765312\n"
     ]
    }
   ],
   "source": [
    "l2 = [23, 45, 67] \n",
    "print(id(l1), id(l2)) # Different memory location"
   ]
  },
  {
   "cell_type": "code",
   "execution_count": 9,
   "metadata": {},
   "outputs": [
    {
     "name": "stdout",
     "output_type": "stream",
     "text": [
      "1964793042624 1964793042624\n"
     ]
    }
   ],
   "source": [
    "l3 = l1\n",
    "print(id(l1), id(l3)) # Same memory location"
   ]
  },
  {
   "cell_type": "code",
   "execution_count": 10,
   "metadata": {},
   "outputs": [
    {
     "name": "stdout",
     "output_type": "stream",
     "text": [
      "[23, 45, 67, 95]\n",
      "[23, 45, 67]\n",
      "[23, 45, 67, 95]\n"
     ]
    }
   ],
   "source": [
    "l1.append(95)\n",
    "print(l1)\n",
    "print(l2)\n",
    "print(l3)\n",
    "\n",
    "#l3 got changed but not l2"
   ]
  },
  {
   "cell_type": "code",
   "execution_count": 12,
   "metadata": {},
   "outputs": [
    {
     "name": "stdout",
     "output_type": "stream",
     "text": [
      "[23, 45, 67, 95]\n"
     ]
    }
   ],
   "source": []
  },
  {
   "cell_type": "code",
   "execution_count": null,
   "metadata": {},
   "outputs": [],
   "source": []
  }
 ],
 "metadata": {
  "kernelspec": {
   "display_name": "Python 3 (ipykernel)",
   "language": "python",
   "name": "python3"
  },
  "language_info": {
   "codemirror_mode": {
    "name": "ipython",
    "version": 3
   },
   "file_extension": ".py",
   "mimetype": "text/x-python",
   "name": "python",
   "nbconvert_exporter": "python",
   "pygments_lexer": "ipython3",
   "version": "3.9.13"
  }
 },
 "nbformat": 4,
 "nbformat_minor": 4
}
